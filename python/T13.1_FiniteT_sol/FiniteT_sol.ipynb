{
 "cells": [
  {
   "cell_type": "markdown",
   "metadata": {},
   "source": ["# [Solutions] Finite temperatures: Purification and XTRG\n",
"Author: <https://cqm.snu.ac.kr Seung-Sup Lee>\n",
"Solution to Exercises (a)-(c): Complete the functions\n",
"There are complete functions, **mtimes_MPO.m**, **finT_puri.m**, and **XTRG.m**, \n",
"all under the **DMRG** sub-directory. Compare with your version!"

   ]
  }
 ],
 "metadata": {
	"language_info": {
	 "name": "python"
	},
	"orig_nbformat": 4
   },
   "nbformat": 4,
   "nbformat_minor": 2
}