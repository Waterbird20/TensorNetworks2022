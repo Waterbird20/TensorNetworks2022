{
 "cells": [
  {
   "cell_type": "markdown",
   "metadata": {},
   "source": ["# [Solution] Graph-independent local truncations (GILT)\n",
"Author: <https://cqm.snu.ac.kr Seung-Sup Lee>\n",
"Solution to Exercise (a): Complete the function for the TRG and the GILT for a square lattice\n",
"The complete version is uploaded as **PEPS/TRG_GILT_Square.m**. Compare with \n",
"your implementation!"

   ]
  }
 ],
 "metadata": {
	"language_info": {
	 "name": "python"
	},
	"orig_nbformat": 4
   },
   "nbformat": 4,
   "nbformat_minor": 2
}