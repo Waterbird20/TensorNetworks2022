{
 "cells": [
  {
   "cell_type": "markdown",
   "metadata": {},
   "source": ["# [Solutions] NRG: Bulla's self-energy trick\n",
"Author: <https://cqm.snu.ac.kr Seung-Sup Lee>\n",
"Solutions to Exercise (a): Complete the function for the Kramers–Kronig (KK) relation and Exercise (b): Complete the function for Bulla's self-energy trick\n",
"The completed functions for the KK relation and the self-energy trick are \n",
"uploaded as, respectively, **Util/KKi2r.m** and **NRG/SEtrick.m**. Compare with \n",
"your version!"

   ]
  }
 ],
 "metadata": {
	"language_info": {
	 "name": "python"
	},
	"orig_nbformat": 4
   },
   "nbformat": 4,
   "nbformat_minor": 2
}