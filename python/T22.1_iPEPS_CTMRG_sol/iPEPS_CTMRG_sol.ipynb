{
 "cells": [
  {
   "cell_type": "markdown",
   "metadata": {},
   "source": ["# [Solution] Infinite PEPS (iPEPS): corner transfer matrix (CTM)\n",
"Author: <https://cqm.snu.ac.kr Seung-Sup Lee>\n",
"Solution to Exercise (a): Complete the function for the symmetric CTMRG\n",
"The complete version is uploaded as **PEPS/symCTMRG.m**. Compare with your version!"

   ]
  }
 ],
 "metadata": {
	"language_info": {
	 "name": "python"
	},
	"orig_nbformat": 4
   },
   "nbformat": 4,
   "nbformat_minor": 2
}