{
 "cells": [
  {
   "cell_type": "markdown",
   "metadata": {},
   "source": ["# [Solution] W state\n",
"Author: <https://cqm.snu.ac.kr Seung-Sup Lee>\n",
"Solution to Exercise (a): Tensor representation of the W state\n",
"The tensor representation of the W state for a general qubit number $N$ can \n",
"be generated with just two lines of code!\n",
"```Matlab\n",
"A = zeros(2*ones(1,N)); % define a rank-N tensor\n",
"A(2.^(0:N-1)+1) = 1/sqrt(N); % assign coefficients\n",
"```\n",
"Let's check whether it works.\n",
"```Matlab\n",
"N = 5;\n",
"A = zeros(2*ones(1,N));\n",
"A(2.^(0:N-1)+1) = 1/sqrt(N);\n",
"nnz(A) % number of nonzero elements\n",
"A(2,1,1,1,1)*sqrt(N)\n",
"A(1,2,1,1,1)*sqrt(N)\n",
"A(1,1,2,1,1)*sqrt(N)\n",
"A(1,1,1,2,1)*sqrt(N)\n",
"A(1,1,1,1,2)*sqrt(N)"

   ]
  }
 ],
 "metadata": {
	"language_info": {
	 "name": "python"
	},
	"orig_nbformat": 4
   },
   "nbformat": 4,
   "nbformat_minor": 2
}