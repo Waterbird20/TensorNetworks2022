{
 "cells": [
  {
   "cell_type": "markdown",
   "metadata": {},
   "source": ["# Diagonalize many-body Hamiltonians\n",
"Author: <https://cqm.snu.ac.kr Seung-Sup Lee>\n",
"\n",
"In this tutorial, we will construct many-body Hamiltonians by using tensor \n",
"networks and diagonalize them. We introduce two new functions that perform the \n",
"tasks needed in this tutorial.\n",
"\n",
"* **Tensor/getIdentity.m**: It creates a rank-2 identity tensor that spans the \n",
"space of a specified leg of an input tensor, or a rank-3 identity tensor that \n",
"merge two specified legs of input tensors.\n",
"* **Tensor/getLocalSpace.m**: It generates local operators for spins, spinless \n",
"fermions, and spinful fermions.\n",
"\n",
"Check out the documentation of these functions for details.\n",
"## Exercise (a): Spin-1/2 Heisenberg triangle (pen-and-paper)\n",
"In Exercises (a) and (b), we study the system of three spin-1/2's, where every \n",
"pair of spins interact via the Heisenberg exchange of equal strength. The system's \n",
"Hamiltonian is specified as\n",
"\n",
"$$\\hat{H} = J (\\hat{\\vec{S}}_1 \\cdot \\hat{\\vec{S}}_2 + \\hat{\\vec{S}}_1 \\cdot \n",
"\\hat{\\vec{S}}_3 + \\hat{\\vec{S}}_2 \\cdot \\hat{\\vec{S}}_3).$$\n",
"\n",
"Identify the eigenvalues and their degeneracies of the Hamiltonian by hand.\n",
"\n",
"(_Hint_: By exploting the SU(2) spin symmetry, the Hamiltonian can be much \n",
"simplified.)\n",
"## Exercise (b): Spin-1/2 Heisenberg triangle (coding)\n",
"In this Exercise, we solve the Hamiltonian introduced in Exercise (a) above, \n",
"with $J = 1$. Obtain the matrix elements of the Hamiltonian in the many-body \n",
"state basis, by constructing the identity tensors (without trunctating them) \n",
"and contracting them with spin operators. Then diagonalize the Hamiltonian to \n",
"obtain the energy eigenvalues. Check whether your numerical result is consistent \n",
"with pen-and-paper calculations done for Exercise (a) above.\n",
"## Exercise (c): Non-interacting tight-binding chain\n",
"In this Exercise, we consider non-interacting spinless fermions (or spin-polarized \n",
"fermions, equivalently) on a tight-binding chain. Its Hamiltonian is given by\n",
"\n",
"$$\\hat{H} = \\sum_{\\ell = 1}^{N-1} ( -t_\\ell \\hat{c}_{\\ell+1}^\\dagger \\hat{c}_{\\ell} \n",
"- t_\\ell^* \\hat{c}_{\\ell}^\\dagger \\hat{c}_{\\ell+1} ),$$\n",
"\n",
"where the chain has $N$ sites, $t_\\ell$ indicates the hopping amplitute between \n",
"sites $\\ell$ and $\\ell+1$, and $\\hat{c}_\\ell^\\dagger$ creates a particle at \n",
"a site $\\ell \\in [1, N]$. Consider the case of $N = 11$ and $t_\\ell = e^{\\mathrm{i} \n",
"\\ell}$. Obtain the matrix elements of the Hamiltonian in the many-body state \n",
"basis (without truncation), and diagonalize it to identify the ground-state \n",
"and the lowest-excited-state energies and their degeneracies. Compare your \"many-body \n",
"calculation\" result with one from **Util/nonIntTB.m**."

   ]
  }
 ],
 "metadata": {
	"language_info": {
	 "name": "python"
	},
	"orig_nbformat": 4
   },
   "nbformat": 4,
   "nbformat_minor": 2
}