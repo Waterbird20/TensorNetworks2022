{
 "cells": [
  {
   "cell_type": "markdown",
   "metadata": {},
   "source": ["# Non-interacting fermions on a tight-binding chain\n",
"Author: <https://cqm.snu.ac.kr/ Seung-Sup Lee>\n",
"\n",
"Here we consider non-interacting spinless fermions (or spin-polarized fermions, \n",
"equivalently) on a tight-binding chain. Its Hamiltonian is given by\n",
"\n",
"$$\\hat{H} = \\sum_{\\ell = 1}^{L-1} ( -t_\\ell \\hat{c}_{\\ell+1}^\\dagger \\hat{c}_{\\ell} \n",
"- t_\\ell^* \\hat{c}_{\\ell}^\\dagger \\hat{c}_{\\ell+1} ),$$\n",
"\n",
"where the chain has $L$ sites, $t_\\ell$ indicates the hopping amplitute between \n",
"sites $\\ell$ and $\\ell+1$, and $\\hat{c}_\\ell^\\dagger$ creates a particle at \n",
"a site $\\ell \\in [1, L]$.\n",
"## Exercise (a): Compute the energy and degeneracy of the many-body ground states\n",
"Write a script or function that computes the ground-state energy and degeneracy \n",
"of this non-interacting tight-binding chain. The script or function takes the \n",
"following input and output:\n",
"\n",
"*< Input >*\n",
"\n",
"* **t** : [numeric vector] Each element **t(l)** indicates a hopping amplitude \n",
"$t_\\ell$. The length of the vector **numel(t)** equals to the number of chain \n",
"sites minus 1.\n",
"\n",
"*< Output >*\n",
"\n",
"* **E_G** : [numeric scalar] Ground-state energy.\n",
"* **d_G** : [numeric scalar] Ground-state degeneracy.\n",
"\n",
"Once you complete a script or function, compute the ground-state energies \n",
"and degeneracies for the following three cases:\n",
"\n",
"(1) $L = 10$, $t_\\ell = 1$ for all $\\ell$'s.\n",
"\n",
"(2) $L = 11$, $t_\\ell = 1$ for all $\\ell$'s.\n",
"\n",
"(3) $L = 11$, $t_\\ell = e^{\\mathrm{i} \\ell}$."

   ]
  }
 ],
 "metadata": {
	"language_info": {
	 "name": "python"
	},
	"orig_nbformat": 4
   },
   "nbformat": 4,
   "nbformat_minor": 2
}