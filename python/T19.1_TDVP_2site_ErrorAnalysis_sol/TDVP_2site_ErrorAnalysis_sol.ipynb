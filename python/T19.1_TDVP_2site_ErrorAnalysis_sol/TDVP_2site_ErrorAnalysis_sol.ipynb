{
 "cells": [
  {
   "cell_type": "markdown",
   "metadata": {},
   "source": ["# [Solution] Time-dependent variational principle (TDVP): 2-site variant\n",
"Author: <https://cqm.snu.ac.kr Seung-Sup Lee>\n",
"Solution to Exercise (a): Complete the function for 2-site TDVP\n",
"The complete version is uploaded as **DMRG/TDVP_2site.m**. Compare with your \n",
"version!"

   ]
  }
 ],
 "metadata": {
	"language_info": {
	 "name": "python"
	},
	"orig_nbformat": 4
   },
   "nbformat": 4,
   "nbformat_minor": 2
}