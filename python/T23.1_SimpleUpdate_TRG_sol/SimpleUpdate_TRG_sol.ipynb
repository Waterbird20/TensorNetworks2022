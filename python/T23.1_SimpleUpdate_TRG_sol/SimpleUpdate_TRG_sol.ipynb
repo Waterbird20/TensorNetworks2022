{
 "cells": [
  {
   "cell_type": "markdown",
   "metadata": {},
   "source": ["# [Solutions] Simple update and tensor renormalization group\n",
"Author: <https://cqm.snu.ac.kr Seung-Sup Lee>\n",
"Solutions to Exercise (a): Complete the function for the simple update method on a honeycomb lattice; and Exercise (b): Complete the function for the TRG on a honeycomb lattice\n",
"The complete versions are uploaded as **PEPS/SimpleUp_Honeycomb.m** and **PEPS/TRG_Honeycomb.m**. \n",
"Compare with your implementation!"

   ]
  }
 ],
 "metadata": {
	"language_info": {
	 "name": "python"
	},
	"orig_nbformat": 4
   },
   "nbformat": 4,
   "nbformat_minor": 2
}