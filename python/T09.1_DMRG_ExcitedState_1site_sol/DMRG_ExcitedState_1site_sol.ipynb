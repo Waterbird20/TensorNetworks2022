{
 "cells": [
  {
   "cell_type": "markdown",
   "metadata": {},
   "source": ["# [Solution] DMRG: Single-site update for excited state search\n",
"Author: <https://cqm.snu.ac.kr Seung-Sup Lee>\n",
"Solution to Exercise (a): Complete the single-site DMRG for first excited state search\n",
"Check out the funciton **DMRG_1ES_1site.m** under the **DMRG** sub-directory. \n",
"Compare with your implementation of **DMRG_1ES_1site_Ex.m**!"

   ]
  }
 ],
 "metadata": {
	"language_info": {
	 "name": "python"
	},
	"orig_nbformat": 4
   },
   "nbformat": 4,
   "nbformat_minor": 2
}