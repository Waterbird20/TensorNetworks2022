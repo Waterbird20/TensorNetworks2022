{
 "cells": [
  {
   "cell_type": "markdown",
   "metadata": {},
   "source": ["# Iterative diagonalization\n",
"Author: <https://cqm.snu.ac.kr Seung-Sup Lee>\n",
"\n",
"The Hilbert space dimension of a many-body system increases exponentially \n",
"with the number of single-particle bases (e.g., number of lattice/chain sites). \n",
"To keep the tensor size manageable, tensor-networks-based methods use various \n",
"ways to truncate the Hilbert space.\n",
"\n",
"Iterative diagonalization is such an approach. Let's consider a one-dimensional \n",
"system having $N$ sites. At the $n$-th iteration of iterative diagonalization, \n",
"we diagonalize the Hamiltonian of the subsystem ranging from site 1 to site \n",
"$n$. The $N_\\mathrm{keep}$ (and a few more) lowest-lying energy eigenvalues \n",
"and the corresponding eigenstates are kept to span the Hilbert space for the \n",
"enlarged subsystem, ranging from site 1 to site $n+1$, to be treated at the \n",
"next iteration.\n",
"\n",
"Here we need to *keep all degenerate states whose energies are close to the \n",
"truncation threshold.* So the actual number of kept states at an iteration can \n",
"be larger than $N_\\mathrm{keep}$, hence \"a few more\". The closeness to the threshold \n",
"is determined by the tolerance parameter **tol**, chosen in terms of numerical \n",
"precision; the states separated within this tolerance are regarded as degenerate. \n",
"The degeneracy often comes from physical symmetries, such as spin and particle-hole \n",
"symmetries. If we keep only the part of the degenerate states, then the Hilbert \n",
"space will not respect the symmetries anymore. This artificial symmetry breaking \n",
"would lead to qualitatively wrong result. (Of course, we can discard the degenerate \n",
"states altogether, rather than keeping them, which also preserves the symmetries.)\n",
"## Exercise (a): Non-interacting tight-binding chain\n",
"In this Exercise, we implement iterative diagonalization codes for computing \n",
"the ground-state energy of non-interacting spinless fermions on a tight-binding \n",
"chain. Since it's non-interacting, we can compare the iterative diagonalization \n",
"results with numerically exact single-particle calculations (namely, via **nonIntTB**). \n",
"The Hamiltonian is given by\n",
"\n",
"$$\\hat{H} = \\sum_{\\ell = 1}^{N-1} ( -t_\\ell \\hat{c}_{\\ell+1}^\\dagger \\hat{c}_{\\ell} \n",
"- t_\\ell^* \\hat{c}_{\\ell}^\\dagger \\hat{c}_{\\ell+1} ),$$\n",
"\n",
"where the chain has $N$ sites and $\\hat{c}_\\ell^\\dagger$ creates a particle \n",
"at a site $\\ell \\in [1, N]$. Here we consider two different chain types (i) \n",
"with uniform hopping amplitudes, $t_\\ell = 1$, and (ii) with logarithmic hopping \n",
"amplitudes, $t_\\ell = 2^{-(\\ell-1)/2}$. Compute the ground-state energies of \n",
"both types for various chain lengths, $N = 2, 3, \\cdots, 50$, and compare them \n",
"the single-particle calculations. Use $N_\\mathrm{keep} = 300$."

   ]
  }
 ],
 "metadata": {
	"language_info": {
	 "name": "python"
	},
	"orig_nbformat": 4
   },
   "nbformat": 4,
   "nbformat_minor": 2
}