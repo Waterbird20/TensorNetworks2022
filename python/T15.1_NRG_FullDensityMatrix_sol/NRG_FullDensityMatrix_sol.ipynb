{
 "cells": [
  {
   "cell_type": "markdown",
   "metadata": {},
   "source": ["# [Solution] NRG: Full density matrix\n",
"Author: <https://cqm.snu.ac.kr Seung-Sup Lee>\n",
"Solution to Exercise (a): Complete the function for constructing the full density matrix\n",
"The completed function, **getRhoFDM.m**, is added under the **NRG** directory. \n",
"Compare with your version!"

   ]
  }
 ],
 "metadata": {
	"language_info": {
	 "name": "python"
	},
	"orig_nbformat": 4
   },
   "nbformat": 4,
   "nbformat_minor": 2
}