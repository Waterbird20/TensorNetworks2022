{
 "cells": [
  {
   "cell_type": "markdown",
   "metadata": {},
   "source": ["# MPO representation of time evolution operators\n",
"Author: <https://cqm.snu.ac.kr Seung-Sup Lee>\n",
"\n",
"In the tutorial for tDMRG, we have time-evolved MPSs by applying rows of two-site \n",
"gates. Often, it is useful to represent a time evolution operator for a time \n",
"step as an MPO.\n",
"\n",
"In this tutorial, we use two different approaches for constructing MPOs that \n",
"represent time evolution operators. As a concrete example, we consider the XY \n",
"spin-1/2 chain of even length $L$,\n",
"\n",
"$$\\hat{H}_{\\mathrm{XY}}= -\\sum_{\\ell=1}^{L-1} (\\hat{S}_{\\ell,x} \\hat{S}_{\\ell+1,x} \n",
"+ \\hat{S}_{\\ell,y} \\hat{S}_{\\ell+1,y})= -\\frac{1}{2} \\sum_{\\ell=1}^{L-1} (\\hat{S}_{\\ell,+} \n",
"\\hat{S}_{\\ell+1,-} + \\hat{S}_{\\ell,-} \\hat{S}_{\\ell+1,+}) ,$$\n",
"\n",
"and a time step $\\Delta t = 0.01$.\n",
"## Exercise (a): MPO for the first-order Trotterization\n",
"In the first-order Trotter decomposition, the time evolution operator for \n",
"time step $\\Delta t$ is split into $\\exp (-\\mathrm{i} \\hat{H}_\\mathrm{odd} \\Delta \n",
"t) \\exp (-\\mathrm{i} \\hat{H}_\\mathrm{even} \\Delta t)$, which has an error of \n",
"the order of $O(\\Delta t^2)$. The decomposition is represented by two rows of \n",
"time evolution gates, as depicted in the upper part of the figure below:\n",
"\n",
"\n",
"\n",
"We can decompose each two-site gate into two single-site tensors at different \n",
"sites, and contract the single-site tensors from different rows, to obtain an \n",
"MPO shown in the lower part of the figure above. Write a script that constructs \n",
"such an MPO for general even $L$. Verify your result by explicitly computing \n",
"$\\exp (-\\mathrm{i} \\hat{H}_\\mathrm{odd} \\Delta t) \\exp (-\\mathrm{i} \\hat{H}_\\mathrm{even} \n",
"\\Delta t)$ for a small system, say $L = 6$.\n",
"## Exercise (b): MPO for the first-order Taylor expansion\n",
"On the other hand, we can make another first-order approximation of $\\exp(-\\mathrm{i} \n",
"\\hat{H}_\\mathrm{XY} \\Delta t)$, which as an error of the order of $O(\\Delta \n",
"t^2)$, by using the Taylor expansion: namely, $\\exp(-\\mathrm{i} \\hat{H}_\\mathrm{XY} \n",
"\\Delta t) \\approx \\hat{I} - \\mathrm{i} \\hat{H}_\\mathrm{XY} \\Delta t$. Write \n",
"a script that constructs such an MPO for general even $L$. Verify your result \n",
"by explicitly computing $\\hat{I} - \\mathrm{i} \\hat{H}_\\mathrm{XY} \\Delta t$ \n",
"for a small system, say $L = 6$.\n",
"\n",
"(_Hint_: Refer to Sec. 5.2 of Schollwoeck2011 [<https://www.sciencedirect.com/science/article/abs/pii/S0003491610001752?via%3Dihub \n",
"U. Schollwöck, Ann. Phys. *326*, 96 (2011)>].)"

   ]
  }
 ],
 "metadata": {
	"language_info": {
	 "name": "python"
	},
	"orig_nbformat": 4
   },
   "nbformat": 4,
   "nbformat_minor": 2
}